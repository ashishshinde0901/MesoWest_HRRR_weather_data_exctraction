{
  "nbformat": 4,
  "nbformat_minor": 0,
  "metadata": {
    "colab": {
      "provenance": [],
      "authorship_tag": "ABX9TyMVukBO81FMdou079VpZZ8f",
      "include_colab_link": true
    },
    "kernelspec": {
      "name": "python3",
      "display_name": "Python 3"
    },
    "language_info": {
      "name": "python"
    }
  },
  "cells": [
    {
      "cell_type": "markdown",
      "metadata": {
        "id": "view-in-github",
        "colab_type": "text"
      },
      "source": [
        "<a href=\"https://colab.research.google.com/github/ashishshinde0901/MesoWest_HRRR_weather_data_exctraction/blob/main/weather_data_extractor.ipynb\" target=\"_parent\"><img src=\"https://colab.research.google.com/assets/colab-badge.svg\" alt=\"Open In Colab\"/></a>"
      ]
    },
    {
      "cell_type": "markdown",
      "source": [],
      "metadata": {
        "id": "MTXcamxiMbIs"
      }
    },
    {
      "cell_type": "code",
      "source": [
        "lat = 40.7608\n",
        "longi = -111.8910\n",
        "start = datetime.datetime.strptime(\"20230721_00\", '%Y%m%d_%H')\n",
        "forecast_length = 3936"
      ],
      "metadata": {
        "id": "qpA_bwmTM-9e"
      },
      "execution_count": 7,
      "outputs": []
    },
    {
      "cell_type": "code",
      "execution_count": 12,
      "metadata": {
        "colab": {
          "base_uri": "https://localhost:8080/"
        },
        "id": "xnqn0U7AK-1h",
        "outputId": "ea5aca43-15b4-4888-f363-f530fde7f87e"
      },
      "outputs": [
        {
          "output_type": "stream",
          "name": "stdout",
          "text": [
            "First Index: 644\n",
            "Second Index: 495\n"
          ]
        }
      ],
      "source": [
        "\n"
      ]
    },
    {
      "cell_type": "code",
      "execution_count": 13,
      "metadata": {
        "colab": {
          "base_uri": "https://localhost:8080/",
          "height": 447
        },
        "id": "23205418-cee7-4b70-874a-d5b783fa5238",
        "outputId": "2ec8f8de-70d0-4ef2-fbe6-f409a60ff872"
      },
      "outputs": [
        {
          "output_type": "stream",
          "name": "stdout",
          "text": [
            "Successfully opened s3://hrrrzarr/sfc/20230721/20230721_00z_anl.zarr\n",
            "Successfully opened s3://hrrrzarr/sfc/20230721/20230721_01z_anl.zarr\n"
          ]
        },
        {
          "output_type": "error",
          "ename": "KeyboardInterrupt",
          "evalue": "",
          "traceback": [
            "\u001b[0;31m---------------------------------------------------------------------------\u001b[0m",
            "\u001b[0;31mKeyboardInterrupt\u001b[0m                         Traceback (most recent call last)",
            "\u001b[0;32m<timed exec>\u001b[0m in \u001b[0;36m<module>\u001b[0;34m\u001b[0m\n",
            "\u001b[0;32m/usr/local/lib/python3.10/dist-packages/zarr/core.py\u001b[0m in \u001b[0;36m__getitem__\u001b[0;34m(self, selection)\u001b[0m\n\u001b[1;32m    793\u001b[0m             \u001b[0mresult\u001b[0m \u001b[0;34m=\u001b[0m \u001b[0mself\u001b[0m\u001b[0;34m.\u001b[0m\u001b[0mvindex\u001b[0m\u001b[0;34m[\u001b[0m\u001b[0mselection\u001b[0m\u001b[0;34m]\u001b[0m\u001b[0;34m\u001b[0m\u001b[0;34m\u001b[0m\u001b[0m\n\u001b[1;32m    794\u001b[0m         \u001b[0;32melif\u001b[0m \u001b[0mis_pure_orthogonal_indexing\u001b[0m\u001b[0;34m(\u001b[0m\u001b[0mpure_selection\u001b[0m\u001b[0;34m,\u001b[0m \u001b[0mself\u001b[0m\u001b[0;34m.\u001b[0m\u001b[0mndim\u001b[0m\u001b[0;34m)\u001b[0m\u001b[0;34m:\u001b[0m\u001b[0;34m\u001b[0m\u001b[0;34m\u001b[0m\u001b[0m\n\u001b[0;32m--> 795\u001b[0;31m             \u001b[0mresult\u001b[0m \u001b[0;34m=\u001b[0m \u001b[0mself\u001b[0m\u001b[0;34m.\u001b[0m\u001b[0mget_orthogonal_selection\u001b[0m\u001b[0;34m(\u001b[0m\u001b[0mpure_selection\u001b[0m\u001b[0;34m,\u001b[0m \u001b[0mfields\u001b[0m\u001b[0;34m=\u001b[0m\u001b[0mfields\u001b[0m\u001b[0;34m)\u001b[0m\u001b[0;34m\u001b[0m\u001b[0;34m\u001b[0m\u001b[0m\n\u001b[0m\u001b[1;32m    796\u001b[0m         \u001b[0;32melse\u001b[0m\u001b[0;34m:\u001b[0m\u001b[0;34m\u001b[0m\u001b[0;34m\u001b[0m\u001b[0m\n\u001b[1;32m    797\u001b[0m             \u001b[0mresult\u001b[0m \u001b[0;34m=\u001b[0m \u001b[0mself\u001b[0m\u001b[0;34m.\u001b[0m\u001b[0mget_basic_selection\u001b[0m\u001b[0;34m(\u001b[0m\u001b[0mpure_selection\u001b[0m\u001b[0;34m,\u001b[0m \u001b[0mfields\u001b[0m\u001b[0;34m=\u001b[0m\u001b[0mfields\u001b[0m\u001b[0;34m)\u001b[0m\u001b[0;34m\u001b[0m\u001b[0;34m\u001b[0m\u001b[0m\n",
            "\u001b[0;32m/usr/local/lib/python3.10/dist-packages/zarr/core.py\u001b[0m in \u001b[0;36mget_orthogonal_selection\u001b[0;34m(self, selection, out, fields)\u001b[0m\n\u001b[1;32m   1075\u001b[0m         \u001b[0mindexer\u001b[0m \u001b[0;34m=\u001b[0m \u001b[0mOrthogonalIndexer\u001b[0m\u001b[0;34m(\u001b[0m\u001b[0mselection\u001b[0m\u001b[0;34m,\u001b[0m \u001b[0mself\u001b[0m\u001b[0;34m)\u001b[0m\u001b[0;34m\u001b[0m\u001b[0;34m\u001b[0m\u001b[0m\n\u001b[1;32m   1076\u001b[0m \u001b[0;34m\u001b[0m\u001b[0m\n\u001b[0;32m-> 1077\u001b[0;31m         \u001b[0;32mreturn\u001b[0m \u001b[0mself\u001b[0m\u001b[0;34m.\u001b[0m\u001b[0m_get_selection\u001b[0m\u001b[0;34m(\u001b[0m\u001b[0mindexer\u001b[0m\u001b[0;34m=\u001b[0m\u001b[0mindexer\u001b[0m\u001b[0;34m,\u001b[0m \u001b[0mout\u001b[0m\u001b[0;34m=\u001b[0m\u001b[0mout\u001b[0m\u001b[0;34m,\u001b[0m \u001b[0mfields\u001b[0m\u001b[0;34m=\u001b[0m\u001b[0mfields\u001b[0m\u001b[0;34m)\u001b[0m\u001b[0;34m\u001b[0m\u001b[0;34m\u001b[0m\u001b[0m\n\u001b[0m\u001b[1;32m   1078\u001b[0m \u001b[0;34m\u001b[0m\u001b[0m\n\u001b[1;32m   1079\u001b[0m     \u001b[0;32mdef\u001b[0m \u001b[0mget_coordinate_selection\u001b[0m\u001b[0;34m(\u001b[0m\u001b[0mself\u001b[0m\u001b[0;34m,\u001b[0m \u001b[0mselection\u001b[0m\u001b[0;34m,\u001b[0m \u001b[0mout\u001b[0m\u001b[0;34m=\u001b[0m\u001b[0;32mNone\u001b[0m\u001b[0;34m,\u001b[0m \u001b[0mfields\u001b[0m\u001b[0;34m=\u001b[0m\u001b[0;32mNone\u001b[0m\u001b[0;34m)\u001b[0m\u001b[0;34m:\u001b[0m\u001b[0;34m\u001b[0m\u001b[0;34m\u001b[0m\u001b[0m\n",
            "\u001b[0;32m/usr/local/lib/python3.10/dist-packages/zarr/core.py\u001b[0m in \u001b[0;36m_get_selection\u001b[0;34m(self, indexer, out, fields)\u001b[0m\n\u001b[1;32m   1338\u001b[0m             \u001b[0;31m# allow storage to get multiple items at once\u001b[0m\u001b[0;34m\u001b[0m\u001b[0;34m\u001b[0m\u001b[0m\n\u001b[1;32m   1339\u001b[0m             \u001b[0mlchunk_coords\u001b[0m\u001b[0;34m,\u001b[0m \u001b[0mlchunk_selection\u001b[0m\u001b[0;34m,\u001b[0m \u001b[0mlout_selection\u001b[0m \u001b[0;34m=\u001b[0m \u001b[0mzip\u001b[0m\u001b[0;34m(\u001b[0m\u001b[0;34m*\u001b[0m\u001b[0mindexer\u001b[0m\u001b[0;34m)\u001b[0m\u001b[0;34m\u001b[0m\u001b[0;34m\u001b[0m\u001b[0m\n\u001b[0;32m-> 1340\u001b[0;31m             self._chunk_getitems(\n\u001b[0m\u001b[1;32m   1341\u001b[0m                 \u001b[0mlchunk_coords\u001b[0m\u001b[0;34m,\u001b[0m\u001b[0;34m\u001b[0m\u001b[0;34m\u001b[0m\u001b[0m\n\u001b[1;32m   1342\u001b[0m                 \u001b[0mlchunk_selection\u001b[0m\u001b[0;34m,\u001b[0m\u001b[0;34m\u001b[0m\u001b[0;34m\u001b[0m\u001b[0m\n",
            "\u001b[0;32m/usr/local/lib/python3.10/dist-packages/zarr/core.py\u001b[0m in \u001b[0;36m_chunk_getitems\u001b[0;34m(self, lchunk_coords, lchunk_selection, out, lout_selection, drop_axes, fields)\u001b[0m\n\u001b[1;32m   2179\u001b[0m             \u001b[0;32mif\u001b[0m \u001b[0;32mnot\u001b[0m \u001b[0misinstance\u001b[0m\u001b[0;34m(\u001b[0m\u001b[0mself\u001b[0m\u001b[0;34m.\u001b[0m\u001b[0m_meta_array\u001b[0m\u001b[0;34m,\u001b[0m \u001b[0mnp\u001b[0m\u001b[0;34m.\u001b[0m\u001b[0mndarray\u001b[0m\u001b[0;34m)\u001b[0m\u001b[0;34m:\u001b[0m\u001b[0;34m\u001b[0m\u001b[0;34m\u001b[0m\u001b[0m\n\u001b[1;32m   2180\u001b[0m                 \u001b[0mcontexts\u001b[0m \u001b[0;34m=\u001b[0m \u001b[0mConstantMap\u001b[0m\u001b[0;34m(\u001b[0m\u001b[0mckeys\u001b[0m\u001b[0;34m,\u001b[0m \u001b[0mconstant\u001b[0m\u001b[0;34m=\u001b[0m\u001b[0mContext\u001b[0m\u001b[0;34m(\u001b[0m\u001b[0mmeta_array\u001b[0m\u001b[0;34m=\u001b[0m\u001b[0mself\u001b[0m\u001b[0;34m.\u001b[0m\u001b[0m_meta_array\u001b[0m\u001b[0;34m)\u001b[0m\u001b[0;34m)\u001b[0m\u001b[0;34m\u001b[0m\u001b[0;34m\u001b[0m\u001b[0m\n\u001b[0;32m-> 2181\u001b[0;31m             \u001b[0mcdatas\u001b[0m \u001b[0;34m=\u001b[0m \u001b[0mself\u001b[0m\u001b[0;34m.\u001b[0m\u001b[0mchunk_store\u001b[0m\u001b[0;34m.\u001b[0m\u001b[0mgetitems\u001b[0m\u001b[0;34m(\u001b[0m\u001b[0mckeys\u001b[0m\u001b[0;34m,\u001b[0m \u001b[0mcontexts\u001b[0m\u001b[0;34m=\u001b[0m\u001b[0mcontexts\u001b[0m\u001b[0;34m)\u001b[0m\u001b[0;34m\u001b[0m\u001b[0;34m\u001b[0m\u001b[0m\n\u001b[0m\u001b[1;32m   2182\u001b[0m \u001b[0;34m\u001b[0m\u001b[0m\n\u001b[1;32m   2183\u001b[0m         \u001b[0;32mfor\u001b[0m \u001b[0mckey\u001b[0m\u001b[0;34m,\u001b[0m \u001b[0mchunk_select\u001b[0m\u001b[0;34m,\u001b[0m \u001b[0mout_select\u001b[0m \u001b[0;32min\u001b[0m \u001b[0mzip\u001b[0m\u001b[0;34m(\u001b[0m\u001b[0mckeys\u001b[0m\u001b[0;34m,\u001b[0m \u001b[0mlchunk_selection\u001b[0m\u001b[0;34m,\u001b[0m \u001b[0mlout_selection\u001b[0m\u001b[0;34m)\u001b[0m\u001b[0;34m:\u001b[0m\u001b[0;34m\u001b[0m\u001b[0;34m\u001b[0m\u001b[0m\n",
            "\u001b[0;32m/usr/local/lib/python3.10/dist-packages/zarr/storage.py\u001b[0m in \u001b[0;36mgetitems\u001b[0;34m(self, keys, contexts)\u001b[0m\n\u001b[1;32m   1424\u001b[0m     ) -> Mapping[str, Any]:\n\u001b[1;32m   1425\u001b[0m         \u001b[0mkeys_transformed\u001b[0m \u001b[0;34m=\u001b[0m \u001b[0;34m{\u001b[0m\u001b[0mself\u001b[0m\u001b[0;34m.\u001b[0m\u001b[0m_normalize_key\u001b[0m\u001b[0;34m(\u001b[0m\u001b[0mkey\u001b[0m\u001b[0;34m)\u001b[0m\u001b[0;34m:\u001b[0m \u001b[0mkey\u001b[0m \u001b[0;32mfor\u001b[0m \u001b[0mkey\u001b[0m \u001b[0;32min\u001b[0m \u001b[0mkeys\u001b[0m\u001b[0;34m}\u001b[0m\u001b[0;34m\u001b[0m\u001b[0;34m\u001b[0m\u001b[0m\n\u001b[0;32m-> 1426\u001b[0;31m         \u001b[0mresults_transformed\u001b[0m \u001b[0;34m=\u001b[0m \u001b[0mself\u001b[0m\u001b[0;34m.\u001b[0m\u001b[0mmap\u001b[0m\u001b[0;34m.\u001b[0m\u001b[0mgetitems\u001b[0m\u001b[0;34m(\u001b[0m\u001b[0mlist\u001b[0m\u001b[0;34m(\u001b[0m\u001b[0mkeys_transformed\u001b[0m\u001b[0;34m)\u001b[0m\u001b[0;34m,\u001b[0m \u001b[0mon_error\u001b[0m\u001b[0;34m=\u001b[0m\u001b[0;34m\"return\"\u001b[0m\u001b[0;34m)\u001b[0m\u001b[0;34m\u001b[0m\u001b[0;34m\u001b[0m\u001b[0m\n\u001b[0m\u001b[1;32m   1427\u001b[0m         \u001b[0mresults\u001b[0m \u001b[0;34m=\u001b[0m \u001b[0;34m{\u001b[0m\u001b[0;34m}\u001b[0m\u001b[0;34m\u001b[0m\u001b[0;34m\u001b[0m\u001b[0m\n\u001b[1;32m   1428\u001b[0m         \u001b[0;32mfor\u001b[0m \u001b[0mk\u001b[0m\u001b[0;34m,\u001b[0m \u001b[0mv\u001b[0m \u001b[0;32min\u001b[0m \u001b[0mresults_transformed\u001b[0m\u001b[0;34m.\u001b[0m\u001b[0mitems\u001b[0m\u001b[0;34m(\u001b[0m\u001b[0;34m)\u001b[0m\u001b[0;34m:\u001b[0m\u001b[0;34m\u001b[0m\u001b[0;34m\u001b[0m\u001b[0m\n",
            "\u001b[0;32m/usr/local/lib/python3.10/dist-packages/fsspec/mapping.py\u001b[0m in \u001b[0;36mgetitems\u001b[0;34m(self, keys, on_error)\u001b[0m\n\u001b[1;32m    103\u001b[0m         \u001b[0moe\u001b[0m \u001b[0;34m=\u001b[0m \u001b[0mon_error\u001b[0m \u001b[0;32mif\u001b[0m \u001b[0mon_error\u001b[0m \u001b[0;34m==\u001b[0m \u001b[0;34m\"raise\"\u001b[0m \u001b[0;32melse\u001b[0m \u001b[0;34m\"return\"\u001b[0m\u001b[0;34m\u001b[0m\u001b[0;34m\u001b[0m\u001b[0m\n\u001b[1;32m    104\u001b[0m         \u001b[0;32mtry\u001b[0m\u001b[0;34m:\u001b[0m\u001b[0;34m\u001b[0m\u001b[0;34m\u001b[0m\u001b[0m\n\u001b[0;32m--> 105\u001b[0;31m             \u001b[0mout\u001b[0m \u001b[0;34m=\u001b[0m \u001b[0mself\u001b[0m\u001b[0;34m.\u001b[0m\u001b[0mfs\u001b[0m\u001b[0;34m.\u001b[0m\u001b[0mcat\u001b[0m\u001b[0;34m(\u001b[0m\u001b[0mkeys2\u001b[0m\u001b[0;34m,\u001b[0m \u001b[0mon_error\u001b[0m\u001b[0;34m=\u001b[0m\u001b[0moe\u001b[0m\u001b[0;34m)\u001b[0m\u001b[0;34m\u001b[0m\u001b[0;34m\u001b[0m\u001b[0m\n\u001b[0m\u001b[1;32m    106\u001b[0m             \u001b[0;32mif\u001b[0m \u001b[0misinstance\u001b[0m\u001b[0;34m(\u001b[0m\u001b[0mout\u001b[0m\u001b[0;34m,\u001b[0m \u001b[0mbytes\u001b[0m\u001b[0;34m)\u001b[0m\u001b[0;34m:\u001b[0m\u001b[0;34m\u001b[0m\u001b[0;34m\u001b[0m\u001b[0m\n\u001b[1;32m    107\u001b[0m                 \u001b[0mout\u001b[0m \u001b[0;34m=\u001b[0m \u001b[0;34m{\u001b[0m\u001b[0mkeys2\u001b[0m\u001b[0;34m[\u001b[0m\u001b[0;36m0\u001b[0m\u001b[0;34m]\u001b[0m\u001b[0;34m:\u001b[0m \u001b[0mout\u001b[0m\u001b[0;34m}\u001b[0m\u001b[0;34m\u001b[0m\u001b[0;34m\u001b[0m\u001b[0m\n",
            "\u001b[0;32m/usr/local/lib/python3.10/dist-packages/fsspec/asyn.py\u001b[0m in \u001b[0;36mwrapper\u001b[0;34m(*args, **kwargs)\u001b[0m\n\u001b[1;32m    116\u001b[0m     \u001b[0;32mdef\u001b[0m \u001b[0mwrapper\u001b[0m\u001b[0;34m(\u001b[0m\u001b[0;34m*\u001b[0m\u001b[0margs\u001b[0m\u001b[0;34m,\u001b[0m \u001b[0;34m**\u001b[0m\u001b[0mkwargs\u001b[0m\u001b[0;34m)\u001b[0m\u001b[0;34m:\u001b[0m\u001b[0;34m\u001b[0m\u001b[0;34m\u001b[0m\u001b[0m\n\u001b[1;32m    117\u001b[0m         \u001b[0mself\u001b[0m \u001b[0;34m=\u001b[0m \u001b[0mobj\u001b[0m \u001b[0;32mor\u001b[0m \u001b[0margs\u001b[0m\u001b[0;34m[\u001b[0m\u001b[0;36m0\u001b[0m\u001b[0;34m]\u001b[0m\u001b[0;34m\u001b[0m\u001b[0;34m\u001b[0m\u001b[0m\n\u001b[0;32m--> 118\u001b[0;31m         \u001b[0;32mreturn\u001b[0m \u001b[0msync\u001b[0m\u001b[0;34m(\u001b[0m\u001b[0mself\u001b[0m\u001b[0;34m.\u001b[0m\u001b[0mloop\u001b[0m\u001b[0;34m,\u001b[0m \u001b[0mfunc\u001b[0m\u001b[0;34m,\u001b[0m \u001b[0;34m*\u001b[0m\u001b[0margs\u001b[0m\u001b[0;34m,\u001b[0m \u001b[0;34m**\u001b[0m\u001b[0mkwargs\u001b[0m\u001b[0;34m)\u001b[0m\u001b[0;34m\u001b[0m\u001b[0;34m\u001b[0m\u001b[0m\n\u001b[0m\u001b[1;32m    119\u001b[0m \u001b[0;34m\u001b[0m\u001b[0m\n\u001b[1;32m    120\u001b[0m     \u001b[0;32mreturn\u001b[0m \u001b[0mwrapper\u001b[0m\u001b[0;34m\u001b[0m\u001b[0;34m\u001b[0m\u001b[0m\n",
            "\u001b[0;32m/usr/local/lib/python3.10/dist-packages/fsspec/asyn.py\u001b[0m in \u001b[0;36msync\u001b[0;34m(loop, func, timeout, *args, **kwargs)\u001b[0m\n\u001b[1;32m     89\u001b[0m     \u001b[0;32mwhile\u001b[0m \u001b[0;32mTrue\u001b[0m\u001b[0;34m:\u001b[0m\u001b[0;34m\u001b[0m\u001b[0;34m\u001b[0m\u001b[0m\n\u001b[1;32m     90\u001b[0m         \u001b[0;31m# this loops allows thread to get interrupted\u001b[0m\u001b[0;34m\u001b[0m\u001b[0;34m\u001b[0m\u001b[0m\n\u001b[0;32m---> 91\u001b[0;31m         \u001b[0;32mif\u001b[0m \u001b[0mevent\u001b[0m\u001b[0;34m.\u001b[0m\u001b[0mwait\u001b[0m\u001b[0;34m(\u001b[0m\u001b[0;36m1\u001b[0m\u001b[0;34m)\u001b[0m\u001b[0;34m:\u001b[0m\u001b[0;34m\u001b[0m\u001b[0;34m\u001b[0m\u001b[0m\n\u001b[0m\u001b[1;32m     92\u001b[0m             \u001b[0;32mbreak\u001b[0m\u001b[0;34m\u001b[0m\u001b[0;34m\u001b[0m\u001b[0m\n\u001b[1;32m     93\u001b[0m         \u001b[0;32mif\u001b[0m \u001b[0mtimeout\u001b[0m \u001b[0;32mis\u001b[0m \u001b[0;32mnot\u001b[0m \u001b[0;32mNone\u001b[0m\u001b[0;34m:\u001b[0m\u001b[0;34m\u001b[0m\u001b[0;34m\u001b[0m\u001b[0m\n",
            "\u001b[0;32m/usr/lib/python3.10/threading.py\u001b[0m in \u001b[0;36mwait\u001b[0;34m(self, timeout)\u001b[0m\n\u001b[1;32m    605\u001b[0m             \u001b[0msignaled\u001b[0m \u001b[0;34m=\u001b[0m \u001b[0mself\u001b[0m\u001b[0;34m.\u001b[0m\u001b[0m_flag\u001b[0m\u001b[0;34m\u001b[0m\u001b[0;34m\u001b[0m\u001b[0m\n\u001b[1;32m    606\u001b[0m             \u001b[0;32mif\u001b[0m \u001b[0;32mnot\u001b[0m \u001b[0msignaled\u001b[0m\u001b[0;34m:\u001b[0m\u001b[0;34m\u001b[0m\u001b[0;34m\u001b[0m\u001b[0m\n\u001b[0;32m--> 607\u001b[0;31m                 \u001b[0msignaled\u001b[0m \u001b[0;34m=\u001b[0m \u001b[0mself\u001b[0m\u001b[0;34m.\u001b[0m\u001b[0m_cond\u001b[0m\u001b[0;34m.\u001b[0m\u001b[0mwait\u001b[0m\u001b[0;34m(\u001b[0m\u001b[0mtimeout\u001b[0m\u001b[0;34m)\u001b[0m\u001b[0;34m\u001b[0m\u001b[0;34m\u001b[0m\u001b[0m\n\u001b[0m\u001b[1;32m    608\u001b[0m             \u001b[0;32mreturn\u001b[0m \u001b[0msignaled\u001b[0m\u001b[0;34m\u001b[0m\u001b[0;34m\u001b[0m\u001b[0m\n\u001b[1;32m    609\u001b[0m \u001b[0;34m\u001b[0m\u001b[0m\n",
            "\u001b[0;32m/usr/lib/python3.10/threading.py\u001b[0m in \u001b[0;36mwait\u001b[0;34m(self, timeout)\u001b[0m\n\u001b[1;32m    322\u001b[0m             \u001b[0;32melse\u001b[0m\u001b[0;34m:\u001b[0m\u001b[0;34m\u001b[0m\u001b[0;34m\u001b[0m\u001b[0m\n\u001b[1;32m    323\u001b[0m                 \u001b[0;32mif\u001b[0m \u001b[0mtimeout\u001b[0m \u001b[0;34m>\u001b[0m \u001b[0;36m0\u001b[0m\u001b[0;34m:\u001b[0m\u001b[0;34m\u001b[0m\u001b[0;34m\u001b[0m\u001b[0m\n\u001b[0;32m--> 324\u001b[0;31m                     \u001b[0mgotit\u001b[0m \u001b[0;34m=\u001b[0m \u001b[0mwaiter\u001b[0m\u001b[0;34m.\u001b[0m\u001b[0macquire\u001b[0m\u001b[0;34m(\u001b[0m\u001b[0;32mTrue\u001b[0m\u001b[0;34m,\u001b[0m \u001b[0mtimeout\u001b[0m\u001b[0;34m)\u001b[0m\u001b[0;34m\u001b[0m\u001b[0;34m\u001b[0m\u001b[0m\n\u001b[0m\u001b[1;32m    325\u001b[0m                 \u001b[0;32melse\u001b[0m\u001b[0;34m:\u001b[0m\u001b[0;34m\u001b[0m\u001b[0;34m\u001b[0m\u001b[0m\n\u001b[1;32m    326\u001b[0m                     \u001b[0mgotit\u001b[0m \u001b[0;34m=\u001b[0m \u001b[0mwaiter\u001b[0m\u001b[0;34m.\u001b[0m\u001b[0macquire\u001b[0m\u001b[0;34m(\u001b[0m\u001b[0;32mFalse\u001b[0m\u001b[0;34m)\u001b[0m\u001b[0;34m\u001b[0m\u001b[0;34m\u001b[0m\u001b[0m\n",
            "\u001b[0;31mKeyboardInterrupt\u001b[0m: "
          ]
        }
      ],
      "source": [
        "%%time\n",
        "import datetime\n",
        "import numpy as np\n",
        "import pandas as pd\n",
        "import s3fs\n",
        "import zarr\n",
        "import xarray as xr\n",
        "import s3fs\n",
        "import cartopy as ccrs\n",
        "\n",
        "# Initialize the S3 filesystem and load the chunk index\n",
        "fs = s3fs.S3FileSystem(anon=True)\n",
        "chunk_index = xr.open_zarr(s3fs.S3Map(\"s3://hrrrzarr/grid/HRRR_chunk_index.zarr\", s3=fs))\n",
        "projection = ccrs.crs.LambertConformal(central_longitude=-97.5,\n",
        "                                        central_latitude=38.5,\n",
        "                                        standard_parallels=[38.5])\n",
        "\n",
        "def get_nearest_indices(projection, chunk_index, latitude, longitude):\n",
        "    \"\"\"\n",
        "    Get the nearest indices in the chunk index for a given latitude and longitude.\n",
        "\n",
        "    Parameters:\n",
        "    - projection: Cartopy projection object\n",
        "    - chunk_index: Xarray dataset with chunk indices\n",
        "    - latitude: Latitude of the point\n",
        "    - longitude: Longitude of the point\n",
        "\n",
        "    Returns:\n",
        "    - first_index: The index_y value from the nearest point\n",
        "    - second_index: The index_x value from the nearest point\n",
        "    \"\"\"\n",
        "    x, y = projection.transform_point(longitude, latitude, ccrs.crs.PlateCarree())\n",
        "    nearest_point = chunk_index.sel(x=x, y=y, method=\"nearest\")\n",
        "\n",
        "    first_index = int(nearest_point.index_y.values)\n",
        "    second_index = int(nearest_point.index_x.values)\n",
        "\n",
        "    return first_index, second_index\n",
        "\n",
        "\n",
        "\n",
        "first_index, second_index = get_nearest_indices(projection, chunk_index, lat, longi)\n",
        "\n",
        "print(\"First Index:\", first_index)\n",
        "print(\"Second Index:\", second_index)\n",
        "\n",
        "\n",
        "\n",
        "\n",
        "arr = pd.DataFrame()\n",
        "tmp_analysis = []\n",
        "i = 0\n",
        "\n",
        "# data = np.empty(forecast_length, dtype=[('Analysis Time', 'datetime64[s]'), ('TMP', 'float')])\n",
        "\n",
        "for time_delta in range(forecast_length):\n",
        "    # construct the aws path\n",
        "    analysis_time = start + datetime.timedelta(hours=time_delta)\n",
        "    # print(analysis_time)\n",
        "\n",
        "\n",
        "    string_date = analysis_time.strftime('%Y%m%d')\n",
        "    string_hour   = analysis_time.strftime('%H')\n",
        "\n",
        "    url = 's3://hrrrzarr/sfc/%s/%s_%sz_anl.zarr' %(string_date, string_date, string_hour)\n",
        "    # url = 's3://hrrrzarr/sfc/%s/%s_%sz_anl.zarr' %(string_date, string_date, string_hour)\n",
        "\n",
        "    try:\n",
        "        store = zarr.open(s3fs.S3Map(url, s3=fs))\n",
        "        print(f\"Successfully opened {url}\")\n",
        "\n",
        "\n",
        "        temp = store[\"surface/TMP/surface/TMP\"][first_index, second_index]\n",
        "        smoke = store[\"8m_above_ground/MASSDEN/8m_above_ground/MASSDEN\"][first_index, second_index]\n",
        "        Vertically_integrated_smoke = store[\"entire_atmosphere_single_layer/COLMD/entire_atmosphere_single_layer/COLMD\"][first_index, second_index]\n",
        "        dew_point = store[\"2m_above_ground/DPT/2m_above_ground/DPT\"][first_index, second_index]\n",
        "       \twind_speed = store[\"10m_above_ground/WIND_max_fcst/10m_above_ground/WIND_max_fcst\"][first_index, second_index]\n",
        "        relative_humidity = store[\"2m_above_ground/RH/2m_above_ground/RH\"][first_index, second_index]\n",
        "        specific_humidity = store[\"2m_above_ground/SPFH/2m_above_ground/SPFH\"][first_index, second_index]\n",
        "        # pres_val = store[\"surface/PRES/surface/PRES\"][first_index, second_index]\n",
        "        # #APCP_fcst = store[\"surface/APCP_acc_fcst/surface/APCP_acc_fcst\"][first_index, second_index]\n",
        "        # cape = store[\"surface/CAPE/surface/CAPE\"][first_index, second_index]\n",
        "        # cin = store[\"surface/CIN/surface/CIN\"][first_index, second_index]\n",
        "        # cnwat = store[\"surface/CNWAT/surface/CNWAT\"][first_index, second_index]\n",
        "        dlwrf = store[\"surface/DLWRF/surface/DLWRF\"][first_index, second_index]\n",
        "        dswrf = store[\"surface/DSWRF/surface/DSWRF\"][first_index, second_index]\n",
        "        # fricv = store[\"surface/FRICV/surface/FRICV\"][first_index, second_index]\n",
        "        gflux = store[\"surface/GFLUX/surface/GFLUX\"][first_index, second_index]\n",
        "        gust = store[\"surface/GUST/surface/GUST\"][first_index, second_index]\n",
        "        hgt = store[\"surface/HGT/surface/HGT\"][first_index, second_index]\n",
        "        # hpbl = store[\"surface/HPBL/surface/HPBL\"][first_index, second_index]\n",
        "        # icec = store[\"surface/ICEC/surface/ICEC\"][first_index, second_index]\n",
        "        # land = store[\"surface/LAND/surface/LAND\"][first_index, second_index]\n",
        "        # lhtfl = store[\"surface/LHTFL/surface/LHTFL\"][first_index, second_index]\n",
        "        # sfcr = store[\"surface/SFCR/surface/SFCR\"][first_index, second_index]\n",
        "        # shtfl = store[\"surface/SHTFL/surface/SHTFL\"][first_index, second_index]\n",
        "        # snod = store[\"surface/SNOD/surface/SNOD\"][first_index, second_index]\n",
        "        # snowc = store[\"surface/SNOWC/surface/SNOWC\"][first_index, second_index]\n",
        "        ulwrf = store[\"surface/ULWRF/surface/ULWRF\"][first_index, second_index]\n",
        "        uswrf = store[\"surface/USWRF/surface/USWRF\"][first_index, second_index]\n",
        "        # vbdsf = store[\"surface/VBDSF/surface/VBDSF\"][first_index, second_index]\n",
        "        # vddsf = store[\"surface/VDDSF/surface/VDDSF\"][first_index, second_index]\n",
        "        # vgtyp = store[\"surface/VGTYP/surface/VGTYP\"][first_index, second_index]\n",
        "        # vis = store[\"surface/VIS/surface/VIS\"][first_index, second_index]\n",
        "        # weasd= store[\"surface/WEASD/surface/WEASD\"][first_index, second_index]\n",
        "\n",
        "\n",
        "\n",
        "\n",
        "\n",
        "\n",
        "\n",
        "        arr.at[analysis_time,\"Temprature\"] = temp\n",
        "        arr.at[analysis_time,\"Smoke_8m_above_ground\"] = smoke\n",
        "        arr.at[analysis_time,\"Vertically Integrated Smoke\"] = Vertically_integrated_smoke\n",
        "        arr.at[analysis_time,\"Dew Point\"] = dew_point\n",
        "        arr.at[analysis_time,\"Wind Speed\"] = wind_speed\n",
        "        arr.at[analysis_time,\"Relative Humidity\"] = relative_humidity\n",
        "        arr.at[analysis_time,\"Specific Humidity\"] = specific_humidity\n",
        "        #arr.at[analysis_time,\"Surface Pressure\"] = pres_val\n",
        "        #arr.at[analysis_time,\"Convective Available Potential Energy\"] = cape\n",
        "        # arr.at[analysis_time,\"Convective Inhibition\"] = cin\n",
        "        # arr.at[analysis_time,\"Plant Canopy Surface Water\"] = cnwat\n",
        "        arr.at[analysis_time,\"Downward Long-Wave Rad. Flux\"] = dlwrf\n",
        "        arr.at[analysis_time,\"Downward Short-Wave Rad. Flux\"] = dswrf\n",
        "        # arr.at[analysis_time,\"Frictional Velocity\"] = fricv\n",
        "        arr.at[analysis_time,\"Ground Heat Flux\"] = gflux\n",
        "        arr.at[analysis_time,\"Wind Gust \"] = gust\n",
        "        arr.at[analysis_time,\"Height of the Level of Free Convection\"] =  hgt\n",
        "        # arr.at[analysis_time,\"Planetary Boundary Layer Height\"] = hpbl\n",
        "        # arr.at[analysis_time,\"Ice Cover\"] = icec\n",
        "        # arr.at[analysis_time,\"Land Cover (0=sea, 1=land)\"] = land\n",
        "        # arr.at[analysis_time,\"Latent Heat Net Flux\"] = lhtfl\n",
        "        # arr.at[analysis_time,\"Surface Roughness \"] = sfcr\n",
        "        # arr.at[analysis_time,\"Sensible Heat Net Flux\"] = shtfl\n",
        "        # arr.at[analysis_time,\"Snow Depth\"] = snod\n",
        "        # arr.at[analysis_time,\"Snow Cover\"] = snowc\n",
        "        arr.at[analysis_time,\"Upward Long-Wave Rad. Flux \"] = ulwrf\n",
        "        arr.at[analysis_time,\"Upward Short-Wave Rad. Flux\"] = uswrf\n",
        "        # arr.at[analysis_time,\"Visible Beam Downward Solar Flux \"] = vbdsf\n",
        "        # arr.at[analysis_time,\"Visible Diffuse Downward Solar Flux\"] = vddsf\n",
        "        # arr.at[analysis_time,\"Vegetation Type\"] = vgtyp\n",
        "        # arr.at[analysis_time,\"Visibility \"] = vis\n",
        "        # arr.at[analysis_time,\"Water Equivalent of Accumulated Snow Depth\"] = weasd\n",
        "\n",
        "\n",
        "\n",
        "\n",
        "\n",
        "    # append the data we need\n",
        "        tmp_analysis.append(store[\"surface/TMP/surface/TMP\"][first_index, second_index])\n",
        "        # Do your processing here\n",
        "    except Exception as e:\n",
        "        print(f\"Failed to open {url}: {e}\")\n",
        "        # Continue with the next iteration if an error occurs\n",
        "        continue\n"
      ]
    },
    {
      "cell_type": "code",
      "source": [
        "pip install cartopy"
      ],
      "metadata": {
        "colab": {
          "base_uri": "https://localhost:8080/"
        },
        "id": "0WyjEtJnN2Wv",
        "outputId": "fb7c21c6-429d-4db1-8c03-f8aa231a576d"
      },
      "execution_count": 11,
      "outputs": [
        {
          "output_type": "stream",
          "name": "stdout",
          "text": [
            "Collecting cartopy\n",
            "  Downloading Cartopy-0.23.0-cp310-cp310-manylinux_2_17_x86_64.manylinux2014_x86_64.whl.metadata (8.0 kB)\n",
            "Requirement already satisfied: numpy>=1.21 in /usr/local/lib/python3.10/dist-packages (from cartopy) (1.26.4)\n",
            "Requirement already satisfied: matplotlib>=3.5 in /usr/local/lib/python3.10/dist-packages (from cartopy) (3.7.1)\n",
            "Requirement already satisfied: shapely>=1.7 in /usr/local/lib/python3.10/dist-packages (from cartopy) (2.0.6)\n",
            "Requirement already satisfied: packaging>=20 in /usr/local/lib/python3.10/dist-packages (from cartopy) (24.1)\n",
            "Requirement already satisfied: pyshp>=2.3 in /usr/local/lib/python3.10/dist-packages (from cartopy) (2.3.1)\n",
            "Requirement already satisfied: pyproj>=3.3.1 in /usr/local/lib/python3.10/dist-packages (from cartopy) (3.6.1)\n",
            "Requirement already satisfied: contourpy>=1.0.1 in /usr/local/lib/python3.10/dist-packages (from matplotlib>=3.5->cartopy) (1.3.0)\n",
            "Requirement already satisfied: cycler>=0.10 in /usr/local/lib/python3.10/dist-packages (from matplotlib>=3.5->cartopy) (0.12.1)\n",
            "Requirement already satisfied: fonttools>=4.22.0 in /usr/local/lib/python3.10/dist-packages (from matplotlib>=3.5->cartopy) (4.54.1)\n",
            "Requirement already satisfied: kiwisolver>=1.0.1 in /usr/local/lib/python3.10/dist-packages (from matplotlib>=3.5->cartopy) (1.4.7)\n",
            "Requirement already satisfied: pillow>=6.2.0 in /usr/local/lib/python3.10/dist-packages (from matplotlib>=3.5->cartopy) (10.4.0)\n",
            "Requirement already satisfied: pyparsing>=2.3.1 in /usr/local/lib/python3.10/dist-packages (from matplotlib>=3.5->cartopy) (3.1.4)\n",
            "Requirement already satisfied: python-dateutil>=2.7 in /usr/local/lib/python3.10/dist-packages (from matplotlib>=3.5->cartopy) (2.8.2)\n",
            "Requirement already satisfied: certifi in /usr/local/lib/python3.10/dist-packages (from pyproj>=3.3.1->cartopy) (2024.8.30)\n",
            "Requirement already satisfied: six>=1.5 in /usr/local/lib/python3.10/dist-packages (from python-dateutil>=2.7->matplotlib>=3.5->cartopy) (1.16.0)\n",
            "Downloading Cartopy-0.23.0-cp310-cp310-manylinux_2_17_x86_64.manylinux2014_x86_64.whl (11.6 MB)\n",
            "\u001b[2K   \u001b[90m━━━━━━━━━━━━━━━━━━━━━━━━━━━━━━━━━━━━━━━━\u001b[0m \u001b[32m11.6/11.6 MB\u001b[0m \u001b[31m55.4 MB/s\u001b[0m eta \u001b[36m0:00:00\u001b[0m\n",
            "\u001b[?25hInstalling collected packages: cartopy\n",
            "Successfully installed cartopy-0.23.0\n"
          ]
        }
      ]
    },
    {
      "cell_type": "code",
      "source": [
        "pip install zarr"
      ],
      "metadata": {
        "colab": {
          "base_uri": "https://localhost:8080/"
        },
        "id": "ETyW_rLNN5Lz",
        "outputId": "6c272ad2-c477-4e9c-b438-33a7a864543b"
      },
      "execution_count": 6,
      "outputs": [
        {
          "output_type": "stream",
          "name": "stdout",
          "text": [
            "Collecting zarr\n",
            "  Downloading zarr-2.18.3-py3-none-any.whl.metadata (5.7 kB)\n",
            "Collecting asciitree (from zarr)\n",
            "  Downloading asciitree-0.3.3.tar.gz (4.0 kB)\n",
            "  Preparing metadata (setup.py) ... \u001b[?25l\u001b[?25hdone\n",
            "Requirement already satisfied: numpy>=1.24 in /usr/local/lib/python3.10/dist-packages (from zarr) (1.26.4)\n",
            "Collecting numcodecs>=0.10.0 (from zarr)\n",
            "  Downloading numcodecs-0.13.0-cp310-cp310-manylinux_2_17_x86_64.manylinux2014_x86_64.whl.metadata (2.9 kB)\n",
            "Collecting fasteners (from zarr)\n",
            "  Downloading fasteners-0.19-py3-none-any.whl.metadata (4.9 kB)\n",
            "Downloading zarr-2.18.3-py3-none-any.whl (210 kB)\n",
            "\u001b[2K   \u001b[90m━━━━━━━━━━━━━━━━━━━━━━━━━━━━━━━━━━━━━━━━\u001b[0m \u001b[32m210.7/210.7 kB\u001b[0m \u001b[31m3.8 MB/s\u001b[0m eta \u001b[36m0:00:00\u001b[0m\n",
            "\u001b[?25hDownloading numcodecs-0.13.0-cp310-cp310-manylinux_2_17_x86_64.manylinux2014_x86_64.whl (8.6 MB)\n",
            "\u001b[2K   \u001b[90m━━━━━━━━━━━━━━━━━━━━━━━━━━━━━━━━━━━━━━━━\u001b[0m \u001b[32m8.6/8.6 MB\u001b[0m \u001b[31m64.9 MB/s\u001b[0m eta \u001b[36m0:00:00\u001b[0m\n",
            "\u001b[?25hDownloading fasteners-0.19-py3-none-any.whl (18 kB)\n",
            "Building wheels for collected packages: asciitree\n",
            "  Building wheel for asciitree (setup.py) ... \u001b[?25l\u001b[?25hdone\n",
            "  Created wheel for asciitree: filename=asciitree-0.3.3-py3-none-any.whl size=5033 sha256=0814f0199e37795b79e3cfc560c39c84439374dbecb8fc14b0aa2637c1b13e10\n",
            "  Stored in directory: /root/.cache/pip/wheels/7f/4e/be/1171b40f43b918087657ec57cf3b81fa1a2e027d8755baa184\n",
            "Successfully built asciitree\n",
            "Installing collected packages: asciitree, numcodecs, fasteners, zarr\n",
            "Successfully installed asciitree-0.3.3 fasteners-0.19 numcodecs-0.13.0 zarr-2.18.3\n"
          ]
        }
      ]
    },
    {
      "cell_type": "code",
      "source": [],
      "metadata": {
        "id": "2TLEwaJfN8CD"
      },
      "execution_count": null,
      "outputs": []
    }
  ]
}